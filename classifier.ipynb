{
 "cells": [
  {
   "cell_type": "code",
   "execution_count": 1,
   "metadata": {
    "ExecuteTime": {
     "end_time": "2019-11-19T15:17:18.289188Z",
     "start_time": "2019-11-19T15:17:18.266613Z"
    }
   },
   "outputs": [],
   "source": [
    "%load_ext autoreload\n",
    "%autoreload 2"
   ]
  },
  {
   "cell_type": "code",
   "execution_count": 55,
   "metadata": {
    "ExecuteTime": {
     "end_time": "2019-11-19T16:18:22.005395Z",
     "start_time": "2019-11-19T16:18:21.963135Z"
    }
   },
   "outputs": [],
   "source": [
    "import pandas as pd\n",
    "from gensim.models.wrappers import FastText\n",
    "from keras.preprocessing.text import Tokenizer\n",
    "from keras.preprocessing.sequence import pad_sequences\n",
    "from ml_fw.token import get_embeddings\n",
    "from ml_fw.models import cnn3\n",
    "from ml_fw.callbacks import get_callbacks"
   ]
  },
  {
   "cell_type": "code",
   "execution_count": 74,
   "metadata": {
    "ExecuteTime": {
     "end_time": "2019-11-19T16:34:08.897325Z",
     "start_time": "2019-11-19T16:34:08.855535Z"
    }
   },
   "outputs": [],
   "source": [
    "# load data"
   ]
  },
  {
   "cell_type": "code",
   "execution_count": 3,
   "metadata": {
    "ExecuteTime": {
     "end_time": "2019-11-19T15:19:32.924791Z",
     "start_time": "2019-11-19T15:18:52.175428Z"
    }
   },
   "outputs": [
    {
     "name": "stderr",
     "output_type": "stream",
     "text": [
      "/home/achaptykov/anaconda3/lib/python3.7/site-packages/IPython/core/interactiveshell.py:3058: DtypeWarning: Columns (1,2,3,4,5,6,7,8,9) have mixed types. Specify dtype option on import or set low_memory=False.\n",
      "  interactivity=interactivity, compiler=compiler, result=result)\n"
     ]
    }
   ],
   "source": [
    "df = pd.read_csv('../df.csv').dropna()"
   ]
  },
  {
   "cell_type": "code",
   "execution_count": 21,
   "metadata": {
    "ExecuteTime": {
     "end_time": "2019-11-19T16:00:29.268368Z",
     "start_time": "2019-11-19T16:00:29.242583Z"
    }
   },
   "outputs": [],
   "source": [
    "targ_cols = [x for x in train_.columns if \"ubic\" in x]"
   ]
  },
  {
   "cell_type": "code",
   "execution_count": 22,
   "metadata": {
    "ExecuteTime": {
     "end_time": "2019-11-19T16:00:33.324579Z",
     "start_time": "2019-11-19T16:00:32.946881Z"
    }
   },
   "outputs": [],
   "source": [
    "train_ = pd.read_csv('../train.csv', index_col=False).iloc[:,1:]\n",
    "test_ = pd.read_csv('../test.csv', index_col=False).iloc[:,1:]"
   ]
  },
  {
   "cell_type": "code",
   "execution_count": 57,
   "metadata": {
    "ExecuteTime": {
     "end_time": "2019-11-19T16:18:32.224507Z",
     "start_time": "2019-11-19T16:18:32.085646Z"
    }
   },
   "outputs": [],
   "source": [
    "train_X = df[df['s_url'].isin(train_['domain'])]['text']\n",
    "train_y = df[df['s_url'].isin(train_['domain'])][targ_cols]\n",
    "\n",
    "test_X = df[df['s_url'].isin(test_['domain'])]['text']\n",
    "test_y = df[df['s_url'].isin(test_['domain'])][targ_cols]"
   ]
  },
  {
   "cell_type": "code",
   "execution_count": 27,
   "metadata": {
    "ExecuteTime": {
     "end_time": "2019-11-19T16:03:06.320031Z",
     "start_time": "2019-11-19T16:02:09.885361Z"
    }
   },
   "outputs": [],
   "source": [
    "max_features = 95000\n",
    "tokenizer = Tokenizer(num_words=max_features)\n",
    "tokenizer.fit_on_texts(train_X.tolist() + test_X.tolist()) "
   ]
  },
  {
   "cell_type": "code",
   "execution_count": null,
   "metadata": {},
   "outputs": [],
   "source": [
    "max_features = 95000 # how many unique words to use (i.e num rows in embedding vector)\n",
    "input_len = 30 # max number of words in a question to use\n",
    "target_len = test_y.shape[1]\n",
    "\n",
    "## Tokenize the sentences\n",
    "tokenizer = Tokenizer(num_words=max_features)\n",
    "tokenizer.fit_on_texts(list(df['text']))\n",
    "\n",
    "train_X = tokenizer.texts_to_sequences(train_X)\n",
    "train_X = pad_sequences(train_X, maxlen=input_len)\n",
    "test_X = tokenizer.texts_to_sequences(test_X)\n",
    "test_X = pad_sequences(test_X, maxlen=input_len)"
   ]
  },
  {
   "cell_type": "code",
   "execution_count": null,
   "metadata": {},
   "outputs": [],
   "source": [
    "emb_model = FastText.load_fasttext_format(\"../../word_vectors/wiki.ru.bin\")\n",
    "embed_size = emb_model.vector_size"
   ]
  },
  {
   "cell_type": "code",
   "execution_count": 33,
   "metadata": {
    "ExecuteTime": {
     "end_time": "2019-11-19T16:07:01.577406Z",
     "start_time": "2019-11-19T16:05:29.613202Z"
    },
    "collapsed": true
   },
   "outputs": [
    {
     "name": "stdout",
     "output_type": "stream",
     "text": [
      "cant find lм\n",
      "cant find мl\n",
      "cant find хp\n",
      "cant find xм\n",
      "cant find хr\n",
      "cant find мb\n",
      "cant find хh\n",
      "cant find nю\n",
      "cant find mж\n",
      "cant find fн\n",
      "cant find jх\n",
      "cant find fх\n",
      "cant find дй\n",
      "cant find чй\n",
      "cant find зd\n",
      "cant find dх\n",
      "cant find mл\n",
      "cant find uл\n",
      "cant find мm\n",
      "cant find gх\n",
      "cant find мf\n",
      "cant find щт\n",
      "cant find fс\n",
      "cant find шж\n",
      "cant find pв\n",
      "cant find rх\n",
      "cant find вh\n",
      "cant find хw\n",
      "cant find rм\n",
      "cant find вm\n",
      "cant find dм\n",
      "cant find bт\n",
      "cant find pс\n",
      "cant find yа\n",
      "cant find нn\n",
      "cant find кs\n",
      "cant find нp\n",
      "cant find gр\n",
      "cant find тs\n",
      "cant find иv\n",
      "cant find nж\n",
      "cant find вt\n",
      "cant find аы\n",
      "cant find пn\n",
      "cant find гk\n",
      "cant find рz\n",
      "cant find цй\n",
      "cant find рj\n",
      "cant find вb\n",
      "cant find wт\n",
      "cant find гn\n",
      "cant find пh\n",
      "cant find тz\n",
      "cant find рeр\n",
      "cant find хo\n",
      "cant find uф\n",
      "cant find хg\n",
      "cant find гp\n",
      "cant find еy\n",
      "cant find дm\n",
      "cant find пl\n",
      "cant find lх\n",
      "cant find xн\n",
      "cant find чg\n",
      "cant find хe\n",
      "cant find rз\n",
      "cant find vт\n",
      "cant find рn\n",
      "cant find чt\n",
      "cant find aч\n",
      "cant find хoрoшo\n",
      "cant find oх\n",
      "cant find uт\n",
      "cant find nп\n",
      "cant find шc\n",
      "cant find цttм\n",
      "cant find цn\n",
      "cant find mр\n",
      "cant find dл\n",
      "cant find dг\n",
      "cant find тt\n",
      "cant find вg\n",
      "cant find пz\n",
      "cant find оy\n",
      "cant find rя\n",
      "cant find hя\n",
      "cant find цo\n",
      "cant find юv\n",
      "cant find цc\n",
      "cant find дk\n",
      "cant find нh\n",
      "cant find lт\n",
      "cant find nй\n",
      "cant find fоx\n",
      "cant find аy\n",
      "cant find bм\n",
      "cant find tт\n",
      "cant find lд\n",
      "cant find шoу\n",
      "cant find оm\n",
      "cant find gт\n",
      "cant find tм\n",
      "cant find уaз\n",
      "cant find хj\n",
      "cant find xммm\n",
      "cant find gаtе\n",
      "cant find пyзыpя\n",
      "cant find бyдyт\n",
      "cant find vй\n",
      "cant find лoйпc\n",
      "cant find rр\n",
      "cant find ъь\n",
      "cant find sн\n",
      "cant find рnп\n",
      "cant find wм\n",
      "cant find лq\n",
      "cant find hн\n",
      "cant find sв\n",
      "cant find xи\n",
      "cant find дxшxг\n",
      "cant find зbуk\n",
      "cant find кt\n",
      "cant find хoтeл\n",
      "cant find шp\n",
      "cant find бaр\n",
      "cant find wл\n",
      "cant find xс\n",
      "cant find кz\n",
      "cant find mд\n",
      "cant find шщ\n",
      "cant find дpифt\n",
      "cant find фoщaй\n",
      "cant find gс\n",
      "cant find нf\n",
      "cant find гxвxш\n",
      "cant find уn\n",
      "cant find цr\n",
      "cant find хm\n",
      "cant find хb\n",
      "cant find nр\n",
      "cant find чs\n",
      "cant find чh\n",
      "cant find щg\n",
      "cant find fл\n",
      "cant find fд\n",
      "cant find пt\n",
      "cant find нщз\n",
      "cant find тg\n",
      "cant find тj\n",
      "cant find тm\n",
      "cant find тq\n",
      "cant find тx\n",
      "cant find тy\n",
      "cant find dк\n",
      "cant find xл\n",
      "cant find xг\n",
      "cant find кsю\n",
      "cant find fк\n",
      "cant find tн\n",
      "cant find шщъыь\n",
      "cant find eб\n",
      "cant find bр\n",
      "cant find уbеi\n",
      "cant find sх\n",
      "cant find вxшxг\n",
      "cant find yчacткoв\n",
      "cant find зyбpе\n",
      "cant find цb\n",
      "cant find oу\n",
      "cant find йp\n",
      "cant find рeррpeрeр\n",
      "cant find рeрyрpeсeр\n",
      "cant find чpт\n",
      "cant find рeс\n",
      "cant find гaз\n",
      "cant find яd\n",
      "cant find вw\n",
      "cant find nрv\n",
      "cant find wр\n",
      "cant find lс\n",
      "cant find uфuл\n",
      "cant find еk\n",
      "cant find cф\n",
      "cant find fп\n",
      "cant find вhт\n",
      "cant find vц\n",
      "cant find бh\n",
      "cant find бm\n",
      "cant find qб\n",
      "cant find оu\n",
      "cant find аq\n",
      "cant find nгr\n",
      "cant find yоu\n",
      "cant find hд\n",
      "cant find цщ\n",
      "cant find dяdи\n",
      "cant find lй\n",
      "cant find оaэ\n",
      "cant find бy\n",
      "cant find гx\n",
      "cant find еb\n",
      "cant find фpaз\n",
      "cant find mч\n",
      "cant find сkн\n",
      "cant find хz\n",
      "cant find yс\n",
      "cant find вl\n"
     ]
    }
   ],
   "source": [
    "embeddings = get_embeddings(emb_model, embed_size, tokenizer)"
   ]
  },
  {
   "cell_type": "code",
   "execution_count": 70,
   "metadata": {
    "ExecuteTime": {
     "end_time": "2019-11-19T16:26:50.136160Z",
     "start_time": "2019-11-19T16:26:41.186796Z"
    }
   },
   "outputs": [],
   "source": [
    "#get model\n",
    "model = cnn3(embeddings, input_len, target_len)"
   ]
  },
  {
   "cell_type": "code",
   "execution_count": 71,
   "metadata": {
    "ExecuteTime": {
     "end_time": "2019-11-19T16:26:50.184317Z",
     "start_time": "2019-11-19T16:26:50.140690Z"
    }
   },
   "outputs": [],
   "source": [
    "callbacks = get_callbacks(train_X,\n",
    "                 train_y,\n",
    "                 test_X,\n",
    "                 test_y)"
   ]
  },
  {
   "cell_type": "code",
   "execution_count": null,
   "metadata": {
    "ExecuteTime": {
     "end_time": "2019-11-19T16:33:35.260504Z",
     "start_time": "2019-11-19T16:33:16.991442Z"
    },
    "scrolled": true
   },
   "outputs": [],
   "source": [
    "#train model\n",
    "model.fit(train_X, train_y, batch_size=300, epochs=2, \n",
    "          validation_data=(test_X, test_y),\n",
    "          callbacks=callbacks, \n",
    "          verbose=1)"
   ]
  }
 ],
 "metadata": {
  "kernelspec": {
   "display_name": "Python 3",
   "language": "python",
   "name": "python3"
  },
  "language_info": {
   "codemirror_mode": {
    "name": "ipython",
    "version": 3
   },
   "file_extension": ".py",
   "mimetype": "text/x-python",
   "name": "python",
   "nbconvert_exporter": "python",
   "pygments_lexer": "ipython3",
   "version": "3.7.4"
  }
 },
 "nbformat": 4,
 "nbformat_minor": 2
}
